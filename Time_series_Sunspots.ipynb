{
  "nbformat": 4,
  "nbformat_minor": 0,
  "metadata": {
    "colab": {
      "name": "Time series-Sunspots.ipynb",
      "provenance": [],
      "authorship_tag": "ABX9TyOe7mX0Hc5cF8jKa0L/QKC+",
      "include_colab_link": true
    },
    "kernelspec": {
      "name": "python3",
      "display_name": "Python 3"
    }
  },
  "cells": [
    {
      "cell_type": "markdown",
      "metadata": {
        "id": "view-in-github",
        "colab_type": "text"
      },
      "source": [
        "<a href=\"https://colab.research.google.com/github/soerenml/tensorflow-certificate/blob/master/Time_series_Sunspots.ipynb\" target=\"_parent\"><img src=\"https://colab.research.google.com/assets/colab-badge.svg\" alt=\"Open In Colab\"/></a>"
      ]
    },
    {
      "cell_type": "markdown",
      "metadata": {
        "id": "kfz4nOGqAX8m"
      },
      "source": [
        "# Sunspots demo"
      ]
    },
    {
      "cell_type": "code",
      "metadata": {
        "id": "RE-NNQEfAYJH",
        "outputId": "944ffd20-e5cb-46c4-9878-292830b78d22",
        "colab": {
          "base_uri": "https://localhost:8080/",
          "height": 34
        }
      },
      "source": [
        "import tensorflow as tf\n",
        "\n",
        "print(tf.__version__)"
      ],
      "execution_count": null,
      "outputs": [
        {
          "output_type": "stream",
          "text": [
            "2.3.0\n"
          ],
          "name": "stdout"
        }
      ]
    },
    {
      "cell_type": "code",
      "metadata": {
        "id": "RZUz0sUnAjDQ",
        "outputId": "03fd77b7-7ac6-4519-89db-8588a582044a",
        "colab": {
          "base_uri": "https://localhost:8080/",
          "height": 222
        }
      },
      "source": [
        "!wget --no-check-certificate \\\n",
        "    https://storage.googleapis.com/laurencemoroney-blog.appspot.com/Sunspots.csv \\\n",
        "    -O /tmp/sunspots.csv"
      ],
      "execution_count": null,
      "outputs": [
        {
          "output_type": "stream",
          "text": [
            "--2020-09-24 16:46:22--  https://storage.googleapis.com/laurencemoroney-blog.appspot.com/Sunspots.csv\n",
            "Resolving storage.googleapis.com (storage.googleapis.com)... 142.250.98.128, 173.194.214.128, 173.194.215.128, ...\n",
            "Connecting to storage.googleapis.com (storage.googleapis.com)|142.250.98.128|:443... connected.\n",
            "HTTP request sent, awaiting response... 200 OK\n",
            "Length: 70827 (69K) [application/octet-stream]\n",
            "Saving to: ‘/tmp/sunspots.csv’\n",
            "\n",
            "/tmp/sunspots.csv   100%[===================>]  69.17K  --.-KB/s    in 0.001s  \n",
            "\n",
            "2020-09-24 16:46:22 (115 MB/s) - ‘/tmp/sunspots.csv’ saved [70827/70827]\n",
            "\n"
          ],
          "name": "stdout"
        }
      ]
    },
    {
      "cell_type": "code",
      "metadata": {
        "id": "kQtkqxrwAk82",
        "outputId": "7b88d916-669f-400c-f125-54f8aeeac690",
        "colab": {
          "base_uri": "https://localhost:8080/",
          "height": 296
        }
      },
      "source": [
        "import csv\n",
        "import numpy as np\n",
        "import matplotlib.pyplot as plt\n",
        "\n",
        "# Create two lists.\n",
        "time_step = []\n",
        "sunspots = []\n",
        "\n",
        "\"\"\"\n",
        "It makes sense to start with a list and convert the list to a\n",
        "numpy array. Append values to an array is computationally intensive\n",
        "while lists can do this very efficiently. Once process is completed,\n",
        "running commputations with arrays is more efficient.\n",
        "\"\"\"\n",
        "with open('/tmp/sunspots.csv') as csvfile:\n",
        "  reader = csv.reader(csvfile, delimiter=',')\n",
        "  next(reader) # jump to the next input line.\n",
        "  for row in reader:\n",
        "    sunspots.append(float(row[2]))\n",
        "    time_step.append(int(row[0]))\n",
        "\n",
        "# We convert our lists to numpy arrays due to computational efficiency\n",
        "series = np.array(sunspots)\n",
        "time = np.array(time_step)\n",
        "\n",
        "def plot_series(time, series, format=\"-\", start=0, end=None):\n",
        "    plt.plot(time[start:end], series[start:end], format)\n",
        "    plt.xlabel(\"Time\")\n",
        "    plt.ylabel(\"Value\")\n",
        "    plt.grid(True)\n",
        "\n",
        "plot_series(time,series)"
      ],
      "execution_count": null,
      "outputs": [
        {
          "output_type": "stream",
          "text": [
            "<class 'list'>\n"
          ],
          "name": "stdout"
        },
        {
          "output_type": "display_data",
          "data": {
            "image/png": "[encoded data removed]",
            "text/plain": [
              "<Figure size 432x288 with 1 Axes>"
            ]
          },
          "metadata": {
            "tags": [],
            "needs_background": "light"
          }
        }
      ]
    },
    {
      "cell_type": "code",
      "metadata": {
        "id": "tGHKhNojDTka"
      },
      "source": [
        "# Create training and validation set\n",
        "split_time = 3000\n",
        "time_train = time[:split_time]\n",
        "x_train = series[:split_time]\n",
        "time_valid = time[split_time:]\n",
        "x_valid = series[split_time:]\n",
        "\n",
        "window_size = 30\n",
        "batch_size = 32\n",
        "shuffle_buffer_size = 1000"
      ],
      "execution_count": null,
      "outputs": []
    },
    {
      "cell_type": "code",
      "metadata": {
        "id": "76DdDq2gDcKQ"
      },
      "source": [
        "# Define input pipeline for training\n",
        "def windowed_dataset(series, window_size, batch_size, shuffle_buffer):\n",
        "    series = tf.expand_dims(series, axis=-1)\n",
        "    ds = tf.data.Dataset.from_tensor_slices(series)\n",
        "    ds = ds.window(window_size + 1, shift=1, drop_remainder=True)\n",
        "    ds = ds.flat_map(lambda w: w.batch(window_size + 1))\n",
        "    ds = ds.shuffle(shuffle_buffer)\n",
        "    ds = ds.map(lambda w: (w[:-1], w[1:]))\n",
        "    return ds.batch(batch_size).prefetch(1)"
      ],
      "execution_count": null,
      "outputs": []
    },
    {
      "cell_type": "code",
      "metadata": {
        "id": "YIAzKb4nDyGX"
      },
      "source": [
        "# Define input pipeline for prediction\n",
        "def model_forecast(model, series, window_size):\n",
        "    ds = tf.data.Dataset.from_tensor_slices(series)\n",
        "    ds = ds.window(window_size, shift=1, drop_remainder=True)\n",
        "    ds = ds.flat_map(lambda w: w.batch(window_size))\n",
        "    ds = ds.batch(32).prefetch(1)\n",
        "    forecast = model.predict(ds)\n",
        "    return forecast"
      ],
      "execution_count": null,
      "outputs": []
    },
    {
      "cell_type": "code",
      "metadata": {
        "id": "peDjGOl9EWup",
        "outputId": "995af386-f5b0-4e52-89fc-8c32184b00a8",
        "colab": {
          "base_uri": "https://localhost:8080/",
          "height": 1000
        }
      },
      "source": [
        "tf.keras.backend.clear_session()\n",
        "tf.random.set_seed(51)\n",
        "np.random.seed(51)\n",
        "window_size = 64\n",
        "batch_size = 256\n",
        "train_set = windowed_dataset(x_train, window_size, batch_size,\n",
        "                             shuffle_buffer_size)\n",
        "print(train_set)\n",
        "print(x_train.shape)\n",
        "\n",
        "model = tf.keras.models.Sequential([\n",
        "  tf.keras.layers.Conv1D(filters=32, kernel_size=5,\n",
        "                      strides=1, padding=\"causal\",\n",
        "                      activation=\"relu\",\n",
        "                      input_shape=[None, 1]),\n",
        "  tf.keras.layers.LSTM(64, return_sequences=True),\n",
        "  tf.keras.layers.LSTM(64, return_sequences=True),\n",
        "  tf.keras.layers.Dense(30, activation=\"relu\"),\n",
        "  tf.keras.layers.Dense(10, activation=\"relu\"),\n",
        "  tf.keras.layers.Dense(1)\n",
        "])\n",
        "\n",
        "lr_schedule = tf.keras.callbacks.LearningRateScheduler(\n",
        "    lambda epoch: 1e-8 * 10**(epoch / 20))\n",
        "optimizer = tf.keras.optimizers.SGD(lr=1e-8, momentum=0.9)\n",
        "model.compile(loss=tf.keras.losses.Huber(),\n",
        "              optimizer=optimizer,\n",
        "              metrics=[\"mae\"])\n",
        "history = model.fit(train_set, epochs=100, callbacks=[lr_schedule])"
      ],
      "execution_count": null,
      "outputs": [
        {
          "output_type": "stream",
          "text": [
            "<PrefetchDataset shapes: ((None, None, 1), (None, None, 1)), types: (tf.float64, tf.float64)>\n",
            "(3000,)\n",
            "Epoch 1/100\n",
            "12/12 [==============================] - 3s 279ms/step - loss: 82.7785 - mae: 83.2667\n",
            "Epoch 2/100\n",
            "12/12 [==============================] - 3s 276ms/step - loss: 82.7785 - mae: 83.2667\n",
            "Epoch 3/100\n",
            "12/12 [==============================] - 3s 278ms/step - loss: 82.7784 - mae: 83.2667\n",
            "Epoch 4/100\n",
            "12/12 [==============================] - 3s 277ms/step - loss: 82.7784 - mae: 83.2666\n",
            "Epoch 5/100\n",
            "12/12 [==============================] - 3s 285ms/step - loss: 82.7784 - mae: 83.2666\n",
            "Epoch 6/100\n",
            "12/12 [==============================] - 3s 282ms/step - loss: 82.7784 - mae: 83.2666\n",
            "Epoch 7/100\n",
            "12/12 [==============================] - 3s 274ms/step - loss: 82.7784 - mae: 83.2666\n",
            "Epoch 8/100\n",
            "12/12 [==============================] - 3s 278ms/step - loss: 82.7783 - mae: 83.2665\n",
            "Epoch 9/100\n",
            "12/12 [==============================] - 3s 281ms/step - loss: 82.7783 - mae: 83.2665\n",
            "Epoch 10/100\n",
            "12/12 [==============================] - 3s 277ms/step - loss: 82.7782 - mae: 83.2664\n",
            "Epoch 11/100\n",
            "12/12 [==============================] - 3s 288ms/step - loss: 82.7782 - mae: 83.2664\n",
            "Epoch 12/100\n",
            "12/12 [==============================] - 3s 277ms/step - loss: 82.7781 - mae: 83.2664\n",
            "Epoch 13/100\n",
            "12/12 [==============================] - 3s 277ms/step - loss: 82.7781 - mae: 83.2663\n",
            "Epoch 14/100\n",
            "12/12 [==============================] - 3s 280ms/step - loss: 82.7780 - mae: 83.2662\n",
            "Epoch 15/100\n",
            "12/12 [==============================] - 3s 280ms/step - loss: 82.7779 - mae: 83.2662\n",
            "Epoch 16/100\n",
            "12/12 [==============================] - 3s 276ms/step - loss: 82.7778 - mae: 83.2661\n",
            "Epoch 17/100\n",
            "12/12 [==============================] - 3s 278ms/step - loss: 82.7778 - mae: 83.2660\n",
            "Epoch 18/100\n",
            "12/12 [==============================] - 3s 279ms/step - loss: 82.7776 - mae: 83.2659\n",
            "Epoch 19/100\n",
            "12/12 [==============================] - 3s 286ms/step - loss: 82.7775 - mae: 83.2657\n",
            "Epoch 20/100\n",
            "12/12 [==============================] - 3s 273ms/step - loss: 82.7774 - mae: 83.2656\n",
            "Epoch 21/100\n",
            "12/12 [==============================] - 3s 279ms/step - loss: 82.7772 - mae: 83.2655\n",
            "Epoch 22/100\n",
            "12/12 [==============================] - 3s 277ms/step - loss: 82.7771 - mae: 83.2653\n",
            "Epoch 23/100\n",
            "12/12 [==============================] - 3s 273ms/step - loss: 82.7769 - mae: 83.2651\n",
            "Epoch 24/100\n",
            "12/12 [==============================] - 3s 280ms/step - loss: 82.7766 - mae: 83.2649\n",
            "Epoch 25/100\n",
            "12/12 [==============================] - 3s 279ms/step - loss: 82.7764 - mae: 83.2646\n",
            "Epoch 26/100\n",
            "12/12 [==============================] - 3s 277ms/step - loss: 82.7761 - mae: 83.2644\n",
            "Epoch 27/100\n",
            "12/12 [==============================] - 3s 278ms/step - loss: 82.7758 - mae: 83.2640\n",
            "Epoch 28/100\n",
            "12/12 [==============================] - 3s 281ms/step - loss: 82.7755 - mae: 83.2637\n",
            "Epoch 29/100\n",
            "12/12 [==============================] - 3s 280ms/step - loss: 82.7751 - mae: 83.2633\n",
            "Epoch 30/100\n",
            "12/12 [==============================] - 3s 278ms/step - loss: 82.7746 - mae: 83.2628\n",
            "Epoch 31/100\n",
            "12/12 [==============================] - 3s 276ms/step - loss: 82.7741 - mae: 83.2623\n",
            "Epoch 32/100\n",
            "12/12 [==============================] - 3s 278ms/step - loss: 82.7735 - mae: 83.2617\n",
            "Epoch 33/100\n",
            "12/12 [==============================] - 3s 275ms/step - loss: 82.7729 - mae: 83.2611\n",
            "Epoch 34/100\n",
            "12/12 [==============================] - 3s 278ms/step - loss: 82.7721 - mae: 83.2603\n",
            "Epoch 35/100\n",
            "12/12 [==============================] - 3s 287ms/step - loss: 82.7713 - mae: 83.2595\n",
            "Epoch 36/100\n",
            "12/12 [==============================] - 3s 272ms/step - loss: 82.7703 - mae: 83.2585\n",
            "Epoch 37/100\n",
            "12/12 [==============================] - 3s 282ms/step - loss: 82.7692 - mae: 83.2574\n",
            "Epoch 38/100\n",
            "12/12 [==============================] - 3s 275ms/step - loss: 82.7680 - mae: 83.2562\n",
            "Epoch 39/100\n",
            "12/12 [==============================] - 3s 286ms/step - loss: 82.7666 - mae: 83.2548\n",
            "Epoch 40/100\n",
            "12/12 [==============================] - 3s 283ms/step - loss: 82.7651 - mae: 83.2532\n",
            "Epoch 41/100\n",
            "12/12 [==============================] - 3s 277ms/step - loss: 82.7633 - mae: 83.2514\n",
            "Epoch 42/100\n",
            "12/12 [==============================] - 3s 285ms/step - loss: 82.7612 - mae: 83.2494\n",
            "Epoch 43/100\n",
            "12/12 [==============================] - 3s 282ms/step - loss: 82.7590 - mae: 83.2471\n",
            "Epoch 44/100\n",
            "12/12 [==============================] - 3s 275ms/step - loss: 82.7564 - mae: 83.2445\n",
            "Epoch 45/100\n",
            "12/12 [==============================] - 3s 279ms/step - loss: 82.7535 - mae: 83.2416\n",
            "Epoch 46/100\n",
            "12/12 [==============================] - 3s 283ms/step - loss: 82.7503 - mae: 83.2384\n",
            "Epoch 47/100\n",
            "12/12 [==============================] - 3s 283ms/step - loss: 82.7467 - mae: 83.2347\n",
            "Epoch 48/100\n",
            "12/12 [==============================] - 3s 277ms/step - loss: 82.7426 - mae: 83.2307\n",
            "Epoch 49/100\n",
            "12/12 [==============================] - 3s 276ms/step - loss: 82.7381 - mae: 83.2261\n",
            "Epoch 50/100\n",
            "12/12 [==============================] - 3s 282ms/step - loss: 82.7330 - mae: 83.2210\n",
            "Epoch 51/100\n",
            " 2/12 [====>.........................] - ETA: 1s - loss: 77.8095 - mae: 78.2889"
          ],
          "name": "stdout"
        }
      ]
    },
    {
      "cell_type": "code",
      "metadata": {
        "id": "yeOoNB8HFGAZ"
      },
      "source": [
        "plt.semilogx(history.history[\"lr\"], history.history[\"loss\"])\n",
        "plt.axis([1e-8, 1e-4, 0, 60])"
      ],
      "execution_count": null,
      "outputs": []
    }
  ]
}